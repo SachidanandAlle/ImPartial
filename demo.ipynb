{
 "cells": [
  {
   "cell_type": "markdown",
   "id": "c5e0f486",
   "metadata": {},
   "source": [
    "<img src=\"./images/impartial-logo.png\" width=\"30%\">\n",
    "\n",
    "### Interactive deep learning whole-cell iMage segmentation and thresholding using Partial annotations\n",
    "\n",
    "ImPartial has the potential of being expanded to other image application,\n",
    "having the potential of becoming the \"Snorkel\" for image labeling.\n",
    "\n",
    "* Generates high-quality single cell-annotations with minimal user-defined scribbles\n",
    "* needs very few(2-3) images\n",
    "* Training time is less than 5 mins\n",
    "* Real-time user feedback with iterative training for best results\n",
    "* Provides objective biomarker quantification\n",
    "* First-ever clinical multiplex assay for T-cell lymphoma\n",
    "\n",
    "![workflow](./images/figure1_workflow_novariance.png)\n"
   ]
  },
  {
   "cell_type": "markdown",
   "id": "babc230a",
   "metadata": {},
   "source": [
    "# Annotations API Demo\n",
    "\n",
    "This demo shows the basic interactions with the ImPartial annotations API. This API **ties together inference, training and image selection** to provide the end-user with a seamless simultaneous model training and annotation \n",
    "experience, where a segmentation model learns how to segment the region of interest as the user annotates the data.\n",
    "\n",
    "\n",
    "## Scenario\n",
    "\n",
    "A specialist needs to annotate a brand new dataset that has never been used to train a model.\n",
    "\n",
    "1. The dataset has already been loaded into the server where the API is running.\n",
    "2. No scribbles have been submitted yet by the user.\n",
    "3. The model needs to be trained from scratch and there are no pre-trained models available.\n"
   ]
  },
  {
   "cell_type": "code",
   "execution_count": null,
   "id": "b41e67b8",
   "metadata": {
    "pycharm": {
     "name": "#%%\n"
    }
   },
   "outputs": [],
   "source": [
    "# Initialize dependencies, configurations and helper functions\n",
    "\n",
    "import io\n",
    "import requests\n",
    "import numpy as np\n",
    "import pickle\n",
    "from PIL import Image\n",
    "from skimage import measure, morphology\n",
    "\n",
    "\n",
    "# MONAI Label is deployed on an EC2 instance in\n",
    "# an AWS research account on a G4dn machine with 1 GPU\n",
    "monailabel_url = \"http://10.0.3.62:8000\"\n",
    "# monailabel_url = \"http://localhost:8000\"\n",
    "\n",
    "\n",
    "def to_green(im):\n",
    "    empty = Image.new(\"L\", im.size)\n",
    "    return Image.merge(\n",
    "        \"RGBA\",\n",
    "        (empty, im, empty, 0.5)\n",
    "    )\n",
    "\n",
    "\n",
    "def to_red(im):\n",
    "    empty = Image.new(\"L\", im.size)\n",
    "    return Image.merge(\n",
    "        \"RGB\",\n",
    "        (im, empty, empty)\n",
    "    )\n",
    "\n",
    "\n",
    "def to_blue(im):\n",
    "    empty = Image.new(\"L\", im.size)\n",
    "    return Image.merge(\n",
    "        \"RGB\",\n",
    "        (empty, empty, im)\n",
    "    )\n"
   ]
  },
  {
   "cell_type": "markdown",
   "id": "c9ad0717",
   "metadata": {},
   "source": [
    "# 1. Client Initialization\n",
    "\n",
    "Information such as available models, training configuration and dataset stats can be retrieved from this endpoint.\n",
    "\n",
    "`GET /info`\n"
   ]
  },
  {
   "cell_type": "code",
   "execution_count": null,
   "id": "a4f8a96d",
   "metadata": {
    "pycharm": {
     "name": "#%%\n"
    },
    "scrolled": true
   },
   "outputs": [],
   "source": [
    "# Get Monai Label server info\n",
    "\n",
    "res = requests.get(\n",
    "    url=f\"{monailabel_url}/info\"\n",
    ")\n",
    "\n",
    "res.raise_for_status()\n",
    "\n",
    "res.json()\n"
   ]
  },
  {
   "cell_type": "markdown",
   "id": "8dee9c78",
   "metadata": {},
   "source": [
    "# 2. Next Image Selection\n",
    "\n",
    "In this step we use the active learning strategy to select an image from the unlabeled dataset. \n",
    "It could be random or it could be based on the entropy computed using the inference results.\n",
    "\n",
    "`POST /activelearning/{strategy}`\n",
    "\n",
    "that returns an image `id`.\n"
   ]
  },
  {
   "cell_type": "code",
   "execution_count": null,
   "id": "ec785f68",
   "metadata": {
    "pycharm": {
     "name": "#%%\n"
    }
   },
   "outputs": [],
   "source": [
    "# Select image from dataset using random strategy\n",
    "\n",
    "res = requests.post(\n",
    "    url=f\"{monailabel_url}/activelearning/random\"\n",
    ")\n",
    "\n",
    "res.raise_for_status()\n",
    "\n",
    "image_id = res.json()[\"id\"]\n",
    "\n",
    "print(f\"Selected '{image_id}'\")\n"
   ]
  },
  {
   "cell_type": "markdown",
   "id": "6b99ff9b",
   "metadata": {},
   "source": [
    "Subsequently the image can be downloaded from the datastore using\n",
    "\n",
    "`GET /datastore/image`\n",
    "\n",
    "and passing the image `id` as parameter."
   ]
  },
  {
   "cell_type": "code",
   "execution_count": null,
   "id": "7fc735a1",
   "metadata": {},
   "outputs": [],
   "source": [
    "# Download image from datastore\n",
    "\n",
    "image_id = \"image1\"\n",
    "\n",
    "print(f\"Displaying  '{image_id}'\")\n",
    "\n",
    "res = requests.get(\n",
    "    url=f\"{monailabel_url}/datastore/image\",\n",
    "    params={\"image\": image_id}\n",
    ")\n",
    "\n",
    "res.raise_for_status()\n",
    "\n",
    "image = Image.open(io.BytesIO(res.content))\n",
    "\n",
    "display(image)\n"
   ]
  },
  {
   "cell_type": "markdown",
   "id": "9e072938",
   "metadata": {},
   "source": [
    "# 3. Submit Label\n",
    "\n",
    "At this point the user will have a way of drawing over the image, and with a few scribbles label the foreground and background areas of the image.\n",
    "\n",
    "We envision this interaction happening on the open source tool called **ImageJ** through a custom plugin that leverages this **Annotations API**.\n",
    "\n",
    "For now, we generated some sample **scribbles off-line** to test the system. This is how they look like!"
   ]
  },
  {
   "cell_type": "code",
   "execution_count": null,
   "id": "4bd665cf",
   "metadata": {},
   "outputs": [],
   "source": [
    "# Draw scribbles\n",
    "\n",
    "print(f\"Scribbles for '{image_id}'\")\n",
    "\n",
    "scribbles_path = f\"/Users/doddsr/data/DAPI1CH_demo/labels/final/{image_id}.png\"\n",
    "\n",
    "scribbles = Image.open(scribbles_path)\n",
    "\n",
    "display(scribbles)"
   ]
  },
  {
   "cell_type": "code",
   "execution_count": null,
   "id": "f2d8e6f2",
   "metadata": {},
   "outputs": [],
   "source": [
    "scribbles = np.array(Image.open(scribbles_path)).astype(np.uint8)\n",
    "\n",
    "background = np.zeros(scribbles.shape)\n",
    "contours = measure.find_contours(scribbles)\n",
    "for c in contours:\n",
    "    c = c.astype(np.uint32)\n",
    "    background[c[:, 0], c[:, 1]] = 1\n",
    "\n",
    "background = background.astype(np.uint8)\n",
    "foreground = morphology.binary_erosion(scribbles, footprint=np.ones((5, 5))).astype(np.uint8)\n",
    "\n",
    "image = image.convert(\"RGB\")\n",
    "\n",
    "background = Image.fromarray(background * 255)\n",
    "foreground = Image.fromarray(foreground * 255)\n",
    "\n",
    "image.paste(to_green(foreground), (0, 0), foreground)\n",
    "image.paste(to_red(background), (0, 0), background)\n",
    "\n",
    "display(image)\n"
   ]
  },
  {
   "cell_type": "markdown",
   "id": "17617ed9",
   "metadata": {},
   "source": [
    "Once the user is satisfied with the scribble, they can submit the label to the datastore using:\n",
    "\n",
    "`POST /datastore/label`\n",
    "\n",
    "with the `label` file and the `id` of the correspoding image.\n",
    "This label will become available for the next training run."
   ]
  },
  {
   "cell_type": "code",
   "execution_count": null,
   "id": "979a050c",
   "metadata": {},
   "outputs": [],
   "source": [
    "# Submit scribbles\n",
    "\n",
    "print(f\"Submitting label for '{image_id}'\")\n",
    "\n",
    "res = requests.put(\n",
    "    url=f\"{monailabel_url}/datastore/label\",\n",
    "    params={\"image\": image_id, \"tag\": \"final\"},\n",
    "    files={\"label\": open(scribbles_path, \"rb\")}\n",
    ")\n",
    "\n",
    "res.raise_for_status()\n",
    "\n",
    "res.json()\n"
   ]
  },
  {
   "cell_type": "markdown",
   "id": "f14dc33f",
   "metadata": {},
   "source": [
    "# 4. Train Model with Newly Annotated Data\n",
    "\n",
    "Use this endpoint to start training the model with all available labels\n",
    "\n",
    "`POST /train/{model}`\n",
    "\n",
    "where in our case `model` would be **impartial**."
   ]
  },
  {
   "cell_type": "code",
   "execution_count": null,
   "id": "0c4b3156",
   "metadata": {},
   "outputs": [],
   "source": [
    "# Kick-off training\n",
    "\n",
    "res = requests.post(\n",
    "    url=f\"{monailabel_url}/train/impartial\"\n",
    ")\n",
    "\n",
    "res.json()\n"
   ]
  },
  {
   "cell_type": "code",
   "execution_count": null,
   "id": "589be22f",
   "metadata": {
    "scrolled": true
   },
   "outputs": [],
   "source": [
    "# Check training status\n",
    "\n",
    "res = requests.get(\n",
    "    url=f\"{monailabel_url}/train\"\n",
    ")\n",
    "\n",
    "res.json()"
   ]
  },
  {
   "cell_type": "markdown",
   "id": "296c3449",
   "metadata": {},
   "source": [
    "# 5. Inference\n",
    "\n",
    "Provide feedback to the user by running inference on the training image.\n",
    "\n",
    "`POST /infer/impartial`\n",
    "\n",
    "The results can also provide hints to the user where more scribbles are needed.\n"
   ]
  },
  {
   "cell_type": "code",
   "execution_count": null,
   "id": "80321649",
   "metadata": {
    "scrolled": false
   },
   "outputs": [],
   "source": [
    "# Run Impartial inference\n",
    "image_id = \"image1\"\n",
    "print(f\"Running inference for '{image_id}'\")\n",
    "\n",
    "\n",
    "res = requests.post(\n",
    "    f'{monailabel_url}/infer/impartial',\n",
    "    params={\"image\": {image_id}, \"output\": \"image\"},\n",
    ")\n",
    "\n",
    "res.raise_for_status()\n",
    "\n",
    "im = Image.open(io.BytesIO(res.content))\n",
    "\n",
    "display(im)"
   ]
  },
  {
   "cell_type": "markdown",
   "id": "effd8451",
   "metadata": {},
   "source": [
    "# 6. Final Results\n",
    "\n",
    "Show an example of final results under full training cycle."
   ]
  }
 ],
 "metadata": {
  "kernelspec": {
   "display_name": "Python 3 (ipykernel)",
   "language": "python",
   "name": "python3"
  },
  "language_info": {
   "codemirror_mode": {
    "name": "ipython",
    "version": 3
   },
   "file_extension": ".py",
   "mimetype": "text/x-python",
   "name": "python",
   "nbconvert_exporter": "python",
   "pygments_lexer": "ipython3",
   "version": "3.8.12"
  }
 },
 "nbformat": 4,
 "nbformat_minor": 5
}
